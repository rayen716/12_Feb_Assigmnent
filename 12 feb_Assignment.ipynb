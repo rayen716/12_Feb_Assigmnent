{
 "cells": [
  {
   "cell_type": "code",
   "execution_count": null,
   "id": "491cc24c",
   "metadata": {},
   "outputs": [],
   "source": [
    "Q1. What is an Exception in python? Write the difference between Exceptions and syntex errors?\n",
    "Ans1.An exception is an event, which occurs during the execution of a program that disrupts the normal flow of the program's instructions.\n",
    "The error implies a problem that mostly arises due to the shortage of system resources. On the other hand, the exceptions occur during runtime and compile time."
   ]
  },
  {
   "cell_type": "code",
   "execution_count": null,
   "id": "955702ce",
   "metadata": {},
   "outputs": [],
   "source": [
    "Q2. What happens when an exception is not handled? Explain with an example?\n",
    "Ans2. If the exception is not handled then the exception is re-raised after the finally clause has been executed.\n",
    "try:\n",
    "    f = open(\"test2.txt\" , 'w')\n",
    "    f.write(\"write something\")\n",
    "finally:\n",
    "    print(\"finally will executed itself in any situation\")"
   ]
  },
  {
   "cell_type": "code",
   "execution_count": null,
   "id": "8da73fc5",
   "metadata": {},
   "outputs": [],
   "source": [
    "Q3. Which python statement is used to catch and handle exceptions? Explain with example?\n",
    "Ans3. In Python, we catch exceptions and handle them using try and except code blocks. The try clause contains the code that can raise an exception, while the except clause contains the code lines that handle the exception.\n",
    "try:\n",
    "    f = open(\"test1.txt\" , 'r')\n",
    "    f.write(\"write into my file\")\n",
    "    f.closed()\n",
    "except Exception as e:\n",
    "    print(\"this is my except block\" ,e)\n",
    "else:\n",
    "    f.close()\n",
    "    print(\"this will be executed once you try will execute without error\")"
   ]
  },
  {
   "cell_type": "code",
   "execution_count": null,
   "id": "47830161",
   "metadata": {},
   "outputs": [],
   "source": [
    "Q4. Explain with example\n",
    "a- try and else\n",
    "Ans(a).try:\n",
    "    f = open(\"test1.txt\" , 'r')\n",
    "    f.write(\"write into my file\")\n",
    "    f.closed()\n",
    "else:\n",
    "    f.close()\n",
    "    print(\"this will be executed once you try will execute without error\")\n",
    "    \n",
    "(b)- finally\n",
    "Ans(b)-  try:\n",
    "    f = open(\"test2.txt\" , 'w')\n",
    "    f.write(\"write something\")\n",
    "finally:\n",
    "    print(\"finally will executed itself in any situation\")\n",
    "    \n",
    "(c)- raise\n",
    "Ans(c)- def validateage(age):\n",
    "    if age < 0:\n",
    "        raise validateage(\"entered age is negative\")\n",
    "    elif age > 200:\n",
    "        raise validateage(\"entered age is very very high\")\n",
    "    else:\n",
    "        print(\"age is valid\")\n",
    "        "
   ]
  },
  {
   "cell_type": "code",
   "execution_count": null,
   "id": "4d23c25a",
   "metadata": {},
   "outputs": [],
   "source": [
    "Q5. What are custom exception in python? Why do we need custom exceptions? Explain with example?\n",
    "Ans5. The construction of custom exception classes can enrich our class design. A custom error class could logs errors, inspect an object.\n",
    "We need custom exceptions to add information about project-related problems.\n",
    "try:\n",
    "    age = int(input(\"enter your age\"))\n",
    "    validateage(age)\n",
    "except validategae as e:\n",
    "    print(e)"
   ]
  },
  {
   "cell_type": "code",
   "execution_count": null,
   "id": "ab850d4a",
   "metadata": {},
   "outputs": [],
   "source": [
    "Q6. Create a custom exception class. Use this class to handle an exception?\n",
    "Ans6. class validateage(Exception):\n",
    "    def __itn__(self, msg):\n",
    "        self.msg = msg\n",
    "    def validateage(age):\n",
    "    if age < 0:\n",
    "        raise validateage(\"entered age is negative\")\n",
    "    elif age > 200:\n",
    "        raise validateage(\"entered age is very very high\")\n",
    "    else:\n",
    "        print(\"age is valid\")\n",
    "            "
   ]
  }
 ],
 "metadata": {
  "kernelspec": {
   "display_name": "Python 3 (ipykernel)",
   "language": "python",
   "name": "python3"
  },
  "language_info": {
   "codemirror_mode": {
    "name": "ipython",
    "version": 3
   },
   "file_extension": ".py",
   "mimetype": "text/x-python",
   "name": "python",
   "nbconvert_exporter": "python",
   "pygments_lexer": "ipython3",
   "version": "3.9.13"
  }
 },
 "nbformat": 4,
 "nbformat_minor": 5
}
